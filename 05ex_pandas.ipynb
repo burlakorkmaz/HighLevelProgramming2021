{
 "cells": [
  {
   "cell_type": "markdown",
   "metadata": {},
   "source": [
    "This exercise consists in analyzing a dataset containg timing information from a series of Time-to-Digital-Converters (TDC) implemented in a pair of FPGAs. Each measurement (i.e. each row of the input file) consists of a flag that specifies the type of message ('HEAD', which in this case is always 1), two addresses of the TDC providing the signal ('FPGA' and 'TDC_CHANNEL'), and the timing information ('ORBIT_CNT', 'BX_COUNTER', and 'TDC_MEAS'). Each TDC count corresponds to 25/30 ns, whereas a unit of BX_COUNTER corresponds to 25 ns, and the ORBIT_CNT is increased every 'x' BX_COUNTER. This allows to store the time in a similar way to hours, minutes and seconds."
   ]
  },
  {
   "cell_type": "code",
<<<<<<< HEAD
   "execution_count": 1,
=======
   "execution_count": null,
>>>>>>> main
   "metadata": {},
   "outputs": [],
   "source": [
    "# If haven't downloaded it yet, please get the data file with wget\n",
    "#!wget https://www.dropbox.com/s/xvjzaxzz3ysphme/data_000637.txt -P ./data/"
   ]
  },
  {
   "cell_type": "markdown",
   "metadata": {},
   "source": [
    "1\\. Create a Pandas DataFrame reading N rows of the `data/data_000637.txt` dataset. Choose N to be smaller than or equal to the maximum number of rows and larger that 10k (check the documentation)."
   ]
  },
  {
   "cell_type": "code",
<<<<<<< HEAD
   "execution_count": 2,
   "metadata": {},
   "outputs": [
    {
     "data": {
      "text/html": [
       "<div>\n",
       "<style scoped>\n",
       "    .dataframe tbody tr th:only-of-type {\n",
       "        vertical-align: middle;\n",
       "    }\n",
       "\n",
       "    .dataframe tbody tr th {\n",
       "        vertical-align: top;\n",
       "    }\n",
       "\n",
       "    .dataframe thead th {\n",
       "        text-align: right;\n",
       "    }\n",
       "</style>\n",
       "<table border=\"1\" class=\"dataframe\">\n",
       "  <thead>\n",
       "    <tr style=\"text-align: right;\">\n",
       "      <th></th>\n",
       "      <th>HEAD</th>\n",
       "      <th>FPGA</th>\n",
       "      <th>TDC_CHANNEL</th>\n",
       "      <th>ORBIT_CNT</th>\n",
       "      <th>BX_COUNTER</th>\n",
       "      <th>TDC_MEAS</th>\n",
       "    </tr>\n",
       "  </thead>\n",
       "  <tbody>\n",
       "    <tr>\n",
       "      <th>0</th>\n",
       "      <td>1</td>\n",
       "      <td>0</td>\n",
       "      <td>123</td>\n",
       "      <td>3869200167</td>\n",
       "      <td>2374</td>\n",
       "      <td>26</td>\n",
       "    </tr>\n",
       "    <tr>\n",
       "      <th>1</th>\n",
       "      <td>1</td>\n",
       "      <td>0</td>\n",
       "      <td>124</td>\n",
       "      <td>3869200167</td>\n",
       "      <td>2374</td>\n",
       "      <td>27</td>\n",
       "    </tr>\n",
       "    <tr>\n",
       "      <th>2</th>\n",
       "      <td>1</td>\n",
       "      <td>0</td>\n",
       "      <td>63</td>\n",
       "      <td>3869200167</td>\n",
       "      <td>2553</td>\n",
       "      <td>28</td>\n",
       "    </tr>\n",
       "    <tr>\n",
       "      <th>3</th>\n",
       "      <td>1</td>\n",
       "      <td>0</td>\n",
       "      <td>64</td>\n",
       "      <td>3869200167</td>\n",
       "      <td>2558</td>\n",
       "      <td>19</td>\n",
       "    </tr>\n",
       "    <tr>\n",
       "      <th>4</th>\n",
       "      <td>1</td>\n",
       "      <td>0</td>\n",
       "      <td>64</td>\n",
       "      <td>3869200167</td>\n",
       "      <td>2760</td>\n",
       "      <td>25</td>\n",
       "    </tr>\n",
       "    <tr>\n",
       "      <th>...</th>\n",
       "      <td>...</td>\n",
       "      <td>...</td>\n",
       "      <td>...</td>\n",
       "      <td>...</td>\n",
       "      <td>...</td>\n",
       "      <td>...</td>\n",
       "    </tr>\n",
       "    <tr>\n",
       "      <th>14995</th>\n",
       "      <td>1</td>\n",
       "      <td>1</td>\n",
       "      <td>4</td>\n",
       "      <td>3869200316</td>\n",
       "      <td>3399</td>\n",
       "      <td>9</td>\n",
       "    </tr>\n",
       "    <tr>\n",
       "      <th>14996</th>\n",
       "      <td>1</td>\n",
       "      <td>1</td>\n",
       "      <td>17</td>\n",
       "      <td>3869200316</td>\n",
       "      <td>3400</td>\n",
       "      <td>15</td>\n",
       "    </tr>\n",
       "    <tr>\n",
       "      <th>14997</th>\n",
       "      <td>1</td>\n",
       "      <td>1</td>\n",
       "      <td>10</td>\n",
       "      <td>3869200316</td>\n",
       "      <td>3530</td>\n",
       "      <td>16</td>\n",
       "    </tr>\n",
       "    <tr>\n",
       "      <th>14998</th>\n",
       "      <td>1</td>\n",
       "      <td>1</td>\n",
       "      <td>8</td>\n",
       "      <td>3869200316</td>\n",
       "      <td>3533</td>\n",
       "      <td>18</td>\n",
       "    </tr>\n",
       "    <tr>\n",
       "      <th>14999</th>\n",
       "      <td>1</td>\n",
       "      <td>0</td>\n",
       "      <td>139</td>\n",
       "      <td>3869200316</td>\n",
       "      <td>3539</td>\n",
       "      <td>0</td>\n",
       "    </tr>\n",
       "  </tbody>\n",
       "</table>\n",
       "<p>15000 rows × 6 columns</p>\n",
       "</div>"
      ],
      "text/plain": [
       "       HEAD  FPGA  TDC_CHANNEL   ORBIT_CNT  BX_COUNTER  TDC_MEAS\n",
       "0         1     0          123  3869200167        2374        26\n",
       "1         1     0          124  3869200167        2374        27\n",
       "2         1     0           63  3869200167        2553        28\n",
       "3         1     0           64  3869200167        2558        19\n",
       "4         1     0           64  3869200167        2760        25\n",
       "...     ...   ...          ...         ...         ...       ...\n",
       "14995     1     1            4  3869200316        3399         9\n",
       "14996     1     1           17  3869200316        3400        15\n",
       "14997     1     1           10  3869200316        3530        16\n",
       "14998     1     1            8  3869200316        3533        18\n",
       "14999     1     0          139  3869200316        3539         0\n",
       "\n",
       "[15000 rows x 6 columns]"
      ]
     },
     "execution_count": 2,
     "metadata": {},
     "output_type": "execute_result"
    }
   ],
   "source": [
    "import pandas as pd\n",
    "\n",
    "data = pd.read_csv('data_000637.txt', sep=\",\",nrows = 15000)\n",
    "data"
   ]
=======
   "execution_count": null,
   "metadata": {},
   "outputs": [],
   "source": []
>>>>>>> main
  },
  {
   "cell_type": "markdown",
   "metadata": {},
   "source": [
    "2\\. Estimate the number of BX in a ORBIT (the value 'x')."
   ]
  },
  {
   "cell_type": "code",
<<<<<<< HEAD
   "execution_count": 3,
   "metadata": {},
   "outputs": [
    {
     "name": "stdout",
     "output_type": "stream",
     "text": [
      "Number of BX: 3564\n"
     ]
    }
   ],
   "source": [
    "n_bx = max(data[\"BX_COUNTER\"])+1\n",
    "print(\"Number of BX:\", n_bx)"
   ]
=======
   "execution_count": null,
   "metadata": {},
   "outputs": [],
   "source": []
>>>>>>> main
  },
  {
   "cell_type": "markdown",
   "metadata": {},
   "source": [
    "3\\. Find out the duration of the data taking in hours, minutes and seconds. You can either make an estimate based on the fraction of the measurements (rows) you read, or perform this check precisely by reading the whole dataset."
   ]
  },
  {
   "cell_type": "code",
<<<<<<< HEAD
   "execution_count": 5,
   "metadata": {},
   "outputs": [
    {
     "name": "stdout",
     "output_type": "stream",
     "text": [
      "149  orbit,  1164  bx  4  tdc PASSED DURING THE ACQUISITION\n",
      "0.013305003333333334  seconds passed\n"
     ]
    }
   ],
   "source": [
    "max_tdc = max(data[\"TDC_MEAS\"]) + 1\n",
    "\n",
    "dif_orbit = max(data[\"ORBIT_CNT\"]) - min(data[\"ORBIT_CNT\"])\n",
    "\n",
    "bx_with_max_orbit = data.loc[data['ORBIT_CNT'] == max(data[\"ORBIT_CNT\"])]\n",
    "bx_with_min_orbit = data.loc[data['ORBIT_CNT'] == min(data[\"ORBIT_CNT\"])]\n",
    "\n",
    "dif_bx = max(bx_with_max_orbit[\"BX_COUNTER\"]) - min(bx_with_min_orbit[\"BX_COUNTER\"])\n",
    "\n",
    "tdc_with_max_bx = bx_with_max_orbit.loc[bx_with_max_orbit['BX_COUNTER'] == max(bx_with_max_orbit[\"BX_COUNTER\"])]\n",
    "tdc_with_min_bx = bx_with_min_orbit.loc[bx_with_min_orbit['BX_COUNTER'] == min(bx_with_min_orbit[\"BX_COUNTER\"])]\n",
    "\n",
    "dif_tdc = max(tdc_with_max_bx[\"TDC_MEAS\"]) - min(tdc_with_min_bx[\"TDC_MEAS\"])\n",
    "\n",
    "if(dif_tdc < 0):\n",
    "    dif_bx = dif_bx - 1\n",
    "    dif_tdc = dif_tdc + max_tdc\n",
    "\n",
    "print(dif_orbit, \" orbit, \", dif_bx, \" bx \", dif_tdc, \" tdc PASSED DURING THE ACQUISITION\")\n",
    "print(((dif_orbit*n_bx)+dif_bx)*25*1e-9 + dif_tdc * 25/30*1e-9, \" seconds passed\")"
   ]
=======
   "execution_count": null,
   "metadata": {},
   "outputs": [],
   "source": []
>>>>>>> main
  },
  {
   "cell_type": "markdown",
   "metadata": {},
   "source": [
    "4\\. Create a new column with the absolute time in ns (as a combination of the other three columns with timing information) since the beginning of the data acquisition."
   ]
  },
  {
   "cell_type": "code",
<<<<<<< HEAD
   "execution_count": 6,
   "metadata": {},
   "outputs": [
    {
     "data": {
      "text/html": [
       "<div>\n",
       "<style scoped>\n",
       "    .dataframe tbody tr th:only-of-type {\n",
       "        vertical-align: middle;\n",
       "    }\n",
       "\n",
       "    .dataframe tbody tr th {\n",
       "        vertical-align: top;\n",
       "    }\n",
       "\n",
       "    .dataframe thead th {\n",
       "        text-align: right;\n",
       "    }\n",
       "</style>\n",
       "<table border=\"1\" class=\"dataframe\">\n",
       "  <thead>\n",
       "    <tr style=\"text-align: right;\">\n",
       "      <th></th>\n",
       "      <th>HEAD</th>\n",
       "      <th>FPGA</th>\n",
       "      <th>TDC_CHANNEL</th>\n",
       "      <th>ORBIT_CNT</th>\n",
       "      <th>BX_COUNTER</th>\n",
       "      <th>TDC_MEAS</th>\n",
       "      <th>NS_PASSED</th>\n",
       "    </tr>\n",
       "  </thead>\n",
       "  <tbody>\n",
       "    <tr>\n",
       "      <th>0</th>\n",
       "      <td>1</td>\n",
       "      <td>0</td>\n",
       "      <td>123</td>\n",
       "      <td>3869200167</td>\n",
       "      <td>2374</td>\n",
       "      <td>26</td>\n",
       "      <td>0.000000e+00</td>\n",
       "    </tr>\n",
       "    <tr>\n",
       "      <th>1</th>\n",
       "      <td>1</td>\n",
       "      <td>0</td>\n",
       "      <td>124</td>\n",
       "      <td>3869200167</td>\n",
       "      <td>2374</td>\n",
       "      <td>27</td>\n",
       "      <td>8.125000e-01</td>\n",
       "    </tr>\n",
       "    <tr>\n",
       "      <th>2</th>\n",
       "      <td>1</td>\n",
       "      <td>0</td>\n",
       "      <td>63</td>\n",
       "      <td>3869200167</td>\n",
       "      <td>2553</td>\n",
       "      <td>28</td>\n",
       "      <td>4.476625e+03</td>\n",
       "    </tr>\n",
       "    <tr>\n",
       "      <th>3</th>\n",
       "      <td>1</td>\n",
       "      <td>0</td>\n",
       "      <td>64</td>\n",
       "      <td>3869200167</td>\n",
       "      <td>2558</td>\n",
       "      <td>19</td>\n",
       "      <td>4.594125e+03</td>\n",
       "    </tr>\n",
       "    <tr>\n",
       "      <th>4</th>\n",
       "      <td>1</td>\n",
       "      <td>0</td>\n",
       "      <td>64</td>\n",
       "      <td>3869200167</td>\n",
       "      <td>2760</td>\n",
       "      <td>25</td>\n",
       "      <td>9.649125e+03</td>\n",
       "    </tr>\n",
       "    <tr>\n",
       "      <th>...</th>\n",
       "      <td>...</td>\n",
       "      <td>...</td>\n",
       "      <td>...</td>\n",
       "      <td>...</td>\n",
       "      <td>...</td>\n",
       "      <td>...</td>\n",
       "      <td>...</td>\n",
       "    </tr>\n",
       "    <tr>\n",
       "      <th>14995</th>\n",
       "      <td>1</td>\n",
       "      <td>1</td>\n",
       "      <td>4</td>\n",
       "      <td>3869200316</td>\n",
       "      <td>3399</td>\n",
       "      <td>9</td>\n",
       "      <td>1.330151e+07</td>\n",
       "    </tr>\n",
       "    <tr>\n",
       "      <th>14996</th>\n",
       "      <td>1</td>\n",
       "      <td>1</td>\n",
       "      <td>17</td>\n",
       "      <td>3869200316</td>\n",
       "      <td>3400</td>\n",
       "      <td>15</td>\n",
       "      <td>1.330154e+07</td>\n",
       "    </tr>\n",
       "    <tr>\n",
       "      <th>14997</th>\n",
       "      <td>1</td>\n",
       "      <td>1</td>\n",
       "      <td>10</td>\n",
       "      <td>3869200316</td>\n",
       "      <td>3530</td>\n",
       "      <td>16</td>\n",
       "      <td>1.330479e+07</td>\n",
       "    </tr>\n",
       "    <tr>\n",
       "      <th>14998</th>\n",
       "      <td>1</td>\n",
       "      <td>1</td>\n",
       "      <td>8</td>\n",
       "      <td>3869200316</td>\n",
       "      <td>3533</td>\n",
       "      <td>18</td>\n",
       "      <td>1.330487e+07</td>\n",
       "    </tr>\n",
       "    <tr>\n",
       "      <th>14999</th>\n",
       "      <td>1</td>\n",
       "      <td>0</td>\n",
       "      <td>139</td>\n",
       "      <td>3869200316</td>\n",
       "      <td>3539</td>\n",
       "      <td>0</td>\n",
       "      <td>1.330500e+07</td>\n",
       "    </tr>\n",
       "  </tbody>\n",
       "</table>\n",
       "<p>15000 rows × 7 columns</p>\n",
       "</div>"
      ],
      "text/plain": [
       "       HEAD  FPGA  TDC_CHANNEL   ORBIT_CNT  BX_COUNTER  TDC_MEAS     NS_PASSED\n",
       "0         1     0          123  3869200167        2374        26  0.000000e+00\n",
       "1         1     0          124  3869200167        2374        27  8.125000e-01\n",
       "2         1     0           63  3869200167        2553        28  4.476625e+03\n",
       "3         1     0           64  3869200167        2558        19  4.594125e+03\n",
       "4         1     0           64  3869200167        2760        25  9.649125e+03\n",
       "...     ...   ...          ...         ...         ...       ...           ...\n",
       "14995     1     1            4  3869200316        3399         9  1.330151e+07\n",
       "14996     1     1           17  3869200316        3400        15  1.330154e+07\n",
       "14997     1     1           10  3869200316        3530        16  1.330479e+07\n",
       "14998     1     1            8  3869200316        3533        18  1.330487e+07\n",
       "14999     1     0          139  3869200316        3539         0  1.330500e+07\n",
       "\n",
       "[15000 rows x 7 columns]"
      ]
     },
     "execution_count": 6,
     "metadata": {},
     "output_type": "execute_result"
    }
   ],
   "source": [
    "initial_ns = (min(data[\"ORBIT_CNT\"])*n_bx + min(bx_with_min_orbit[\"BX_COUNTER\"])) * 25 + min(tdc_with_min_bx[\"TDC_MEAS\"]) * 25/30                                                                                                 \n",
    "data['NS_PASSED'] = ((data['ORBIT_CNT']*n_bx + data['BX_COUNTER']) * 25 + data['TDC_MEAS']*25/30) - initial_ns\n",
    "data"
   ]
=======
   "execution_count": null,
   "metadata": {},
   "outputs": [],
   "source": []
>>>>>>> main
  },
  {
   "cell_type": "markdown",
   "metadata": {},
   "source": [
    "5\\. Use the `.groupby()` method to find out the noisy channels, i.e. the TDC channels with most counts (print to screen the top 3 and the corresponding counts)"
   ]
  },
  {
   "cell_type": "code",
<<<<<<< HEAD
   "execution_count": 7,
   "metadata": {},
   "outputs": [
    {
     "data": {
      "text/html": [
       "<div>\n",
       "<style scoped>\n",
       "    .dataframe tbody tr th:only-of-type {\n",
       "        vertical-align: middle;\n",
       "    }\n",
       "\n",
       "    .dataframe tbody tr th {\n",
       "        vertical-align: top;\n",
       "    }\n",
       "\n",
       "    .dataframe thead th {\n",
       "        text-align: right;\n",
       "    }\n",
       "</style>\n",
       "<table border=\"1\" class=\"dataframe\">\n",
       "  <thead>\n",
       "    <tr style=\"text-align: right;\">\n",
       "      <th></th>\n",
       "      <th>HEAD</th>\n",
       "      <th>FPGA</th>\n",
       "      <th>ORBIT_CNT</th>\n",
       "      <th>BX_COUNTER</th>\n",
       "      <th>TDC_MEAS</th>\n",
       "      <th>NS_PASSED</th>\n",
       "    </tr>\n",
       "    <tr>\n",
       "      <th>TDC_CHANNEL</th>\n",
       "      <th></th>\n",
       "      <th></th>\n",
       "      <th></th>\n",
       "      <th></th>\n",
       "      <th></th>\n",
       "      <th></th>\n",
       "    </tr>\n",
       "  </thead>\n",
       "  <tbody>\n",
       "    <tr>\n",
       "      <th>67</th>\n",
       "      <td>5</td>\n",
       "      <td>5</td>\n",
       "      <td>19346001149</td>\n",
       "      <td>14571</td>\n",
       "      <td>81</td>\n",
       "      <td>2.804488e+07</td>\n",
       "    </tr>\n",
       "    <tr>\n",
       "      <th>125</th>\n",
       "      <td>6</td>\n",
       "      <td>6</td>\n",
       "      <td>23215201639</td>\n",
       "      <td>8111</td>\n",
       "      <td>100</td>\n",
       "      <td>5.660333e+07</td>\n",
       "    </tr>\n",
       "    <tr>\n",
       "      <th>55</th>\n",
       "      <td>6</td>\n",
       "      <td>6</td>\n",
       "      <td>23215201566</td>\n",
       "      <td>4570</td>\n",
       "      <td>102</td>\n",
       "      <td>5.001050e+07</td>\n",
       "    </tr>\n",
       "    <tr>\n",
       "      <th>107</th>\n",
       "      <td>6</td>\n",
       "      <td>1</td>\n",
       "      <td>23215201384</td>\n",
       "      <td>13139</td>\n",
       "      <td>95</td>\n",
       "      <td>3.400852e+07</td>\n",
       "    </tr>\n",
       "    <tr>\n",
       "      <th>106</th>\n",
       "      <td>6</td>\n",
       "      <td>2</td>\n",
       "      <td>23215201450</td>\n",
       "      <td>8906</td>\n",
       "      <td>86</td>\n",
       "      <td>3.978329e+07</td>\n",
       "    </tr>\n",
       "    <tr>\n",
       "      <th>...</th>\n",
       "      <td>...</td>\n",
       "      <td>...</td>\n",
       "      <td>...</td>\n",
       "      <td>...</td>\n",
       "      <td>...</td>\n",
       "      <td>...</td>\n",
       "    </tr>\n",
       "    <tr>\n",
       "      <th>62</th>\n",
       "      <td>542</td>\n",
       "      <td>13</td>\n",
       "      <td>2097106530713</td>\n",
       "      <td>1006293</td>\n",
       "      <td>8139</td>\n",
       "      <td>3.574716e+09</td>\n",
       "    </tr>\n",
       "    <tr>\n",
       "      <th>61</th>\n",
       "      <td>571</td>\n",
       "      <td>16</td>\n",
       "      <td>2209313337589</td>\n",
       "      <td>1045520</td>\n",
       "      <td>8281</td>\n",
       "      <td>3.755115e+09</td>\n",
       "    </tr>\n",
       "    <tr>\n",
       "      <th>63</th>\n",
       "      <td>749</td>\n",
       "      <td>6</td>\n",
       "      <td>2898030982000</td>\n",
       "      <td>1364359</td>\n",
       "      <td>11085</td>\n",
       "      <td>5.060954e+09</td>\n",
       "    </tr>\n",
       "    <tr>\n",
       "      <th>64</th>\n",
       "      <td>752</td>\n",
       "      <td>17</td>\n",
       "      <td>2909638583165</td>\n",
       "      <td>1394717</td>\n",
       "      <td>10889</td>\n",
       "      <td>5.120697e+09</td>\n",
       "    </tr>\n",
       "    <tr>\n",
       "      <th>139</th>\n",
       "      <td>1268</td>\n",
       "      <td>389</td>\n",
       "      <td>4906145905369</td>\n",
       "      <td>2247027</td>\n",
       "      <td>0</td>\n",
       "      <td>8.321811e+09</td>\n",
       "    </tr>\n",
       "  </tbody>\n",
       "</table>\n",
       "<p>129 rows × 6 columns</p>\n",
       "</div>"
      ],
      "text/plain": [
       "             HEAD  FPGA      ORBIT_CNT  BX_COUNTER  TDC_MEAS     NS_PASSED\n",
       "TDC_CHANNEL                                                               \n",
       "67              5     5    19346001149       14571        81  2.804488e+07\n",
       "125             6     6    23215201639        8111       100  5.660333e+07\n",
       "55              6     6    23215201566        4570       102  5.001050e+07\n",
       "107             6     1    23215201384       13139        95  3.400852e+07\n",
       "106             6     2    23215201450        8906        86  3.978329e+07\n",
       "...           ...   ...            ...         ...       ...           ...\n",
       "62            542    13  2097106530713     1006293      8139  3.574716e+09\n",
       "61            571    16  2209313337589     1045520      8281  3.755115e+09\n",
       "63            749     6  2898030982000     1364359     11085  5.060954e+09\n",
       "64            752    17  2909638583165     1394717     10889  5.120697e+09\n",
       "139          1268   389  4906145905369     2247027         0  8.321811e+09\n",
       "\n",
       "[129 rows x 6 columns]"
      ]
     },
     "execution_count": 7,
     "metadata": {},
     "output_type": "execute_result"
    }
   ],
   "source": [
    "group_by_tdc = data.groupby('TDC_CHANNEL').sum().sort_values(by=['HEAD'])\n",
    "group_by_tdc"
   ]
=======
   "execution_count": null,
   "metadata": {},
   "outputs": [],
   "source": []
>>>>>>> main
  },
  {
   "cell_type": "markdown",
   "metadata": {},
   "source": [
    "6\\. Count the number of non-empty orbits (i.e. the number of orbits with at least one hit). Count also the number of unique orbits with at least one measurement from TDC_CHANNEL=139."
   ]
  },
  {
   "cell_type": "code",
<<<<<<< HEAD
   "execution_count": 10,
   "metadata": {},
   "outputs": [
    {
     "name": "stdout",
     "output_type": "stream",
     "text": [
      "Non-empty orbits length: 150\n",
      "TDC_CHANNEL 139 orbits length:  150\n"
     ]
    }
   ],
   "source": [
    "non_empty_orbits = data.groupby('ORBIT_CNT').size()\n",
    "print(\"Non-empty orbits length:\", len(non_empty_orbits)) \n",
    "\n",
    "channel_139_orbits = data[data['TDC_CHANNEL'] == 139].groupby('ORBIT_CNT').size()\n",
    "print(\"TDC_CHANNEL 139 orbits length: \", len(channel_139_orbits))"
   ]
=======
   "execution_count": null,
   "metadata": {},
   "outputs": [],
   "source": []
>>>>>>> main
  },
  {
   "cell_type": "markdown",
   "metadata": {},
   "source": [
    "7\\. **Optional:** Make two occupancy plots (one for each FPGA), i.e. plot the number of counts per TDC channel"
   ]
  },
  {
   "cell_type": "code",
<<<<<<< HEAD
   "execution_count": 11,
   "metadata": {},
   "outputs": [
    {
     "data": {
      "text/plain": [
       "<matplotlib.axes._subplots.AxesSubplot at 0x252665f1470>"
      ]
     },
     "execution_count": 11,
     "metadata": {},
     "output_type": "execute_result"
    },
    {
     "data": {
      "image/png": "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\n",
      "text/plain": [
       "<Figure size 432x288 with 1 Axes>"
      ]
     },
     "metadata": {
      "needs_background": "light"
     },
     "output_type": "display_data"
    },
    {
     "data": {
      "image/png": "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\n",
      "text/plain": [
       "<Figure size 432x288 with 1 Axes>"
      ]
     },
     "metadata": {
      "needs_background": "light"
     },
     "output_type": "display_data"
    }
   ],
   "source": [
    "fpga_0 = data[data['FPGA']== 0].groupby('TDC_CHANNEL').size()\n",
    "fpga_0_with_counts = fpga_0.reset_index(name='COUNT')\n",
    "fpga_0_with_counts.plot(x = 'TDC_CHANNEL', y = 'COUNT', legend = True)\n",
    "\n",
    "fpga_1 = data[data['FPGA']== 1].groupby('TDC_CHANNEL').size()\n",
    "fpga_1_with_counts = fpga_1.reset_index(name='COUNT')\n",
    "fpga_1_with_counts.plot(x = 'TDC_CHANNEL', y = 'COUNT', legend = True)"
   ]
  },
  {
   "cell_type": "code",
=======
>>>>>>> main
   "execution_count": null,
   "metadata": {},
   "outputs": [],
   "source": []
  }
 ],
 "metadata": {
  "kernelspec": {
   "display_name": "Python 3",
   "language": "python",
   "name": "python3"
  },
  "language_info": {
   "codemirror_mode": {
    "name": "ipython",
    "version": 3
   },
   "file_extension": ".py",
   "mimetype": "text/x-python",
   "name": "python",
   "nbconvert_exporter": "python",
   "pygments_lexer": "ipython3",
<<<<<<< HEAD
   "version": "3.7.1"
=======
   "version": "3.8.5"
>>>>>>> main
  }
 },
 "nbformat": 4,
 "nbformat_minor": 2
}
