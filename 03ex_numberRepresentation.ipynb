{
 "cells": [
  {
   "cell_type": "markdown",
   "metadata": {},
   "source": [
    "1\\. Write a function that converts numbers among the bin, dec, and hex representations (bin<->dec<->hex)"
   ]
  },
  {
   "cell_type": "code",
<<<<<<< HEAD
   "execution_count": 1,
   "metadata": {},
   "outputs": [
    {
     "name": "stdout",
     "output_type": "stream",
     "text": [
      "input = dec\n",
      "hex: 0x5\n",
      "bin: 0b101 \n",
      "\n",
      "input = hex\n",
      "dec: 21\n",
      "bin: 0b10101 \n",
      "\n",
      "input = bin\n",
      "dec: 5\n",
      "hex: 0x5\n"
     ]
    }
   ],
   "source": [
    "def convert(a):\n",
    "    if type(a) == int:\n",
    "        print(\"input = dec\")\n",
    "        print(\"hex:\",hex(a))\n",
    "        print(\"bin:\",bin(a),\"\\n\")\n",
    "    elif str(a)[0:2] == \"0x\":\n",
    "        print(\"input = hex\")\n",
    "        print(\"dec:\",int(a,16))\n",
    "        print(\"bin:\",bin(int(a,16)),\"\\n\")\n",
    "    elif str(a)[0:2] == \"0b\":\n",
    "        print(\"input = bin\")\n",
    "        print(\"dec:\", int(a,2))\n",
    "        print(\"hex:\",hex(int(a,2)))\n",
    "    else:\n",
    "        \n",
    "        print(\"please use dec,hex or bin value\")\n",
    "    \n",
    "convert(5)   \n",
    "convert(\"0x15\")\n",
    "convert(\"0b00101\")"
   ]
=======
   "execution_count": null,
   "metadata": {},
   "outputs": [],
   "source": []
>>>>>>> main
  },
  {
   "cell_type": "markdown",
   "metadata": {},
   "source": [
    "2\\. Write a function that converts a 32 bit word into a single precision floating point (i.e. interprets the various bits as sign, mantissa and exponent) and check its validity."
   ]
  },
  {
   "cell_type": "code",
<<<<<<< HEAD
   "execution_count": 3,
   "metadata": {},
   "outputs": [
    {
     "name": "stdout",
     "output_type": "stream",
     "text": [
      "word: 45.0 \n",
      "\n",
      "word2: 29.229999542236328 \n",
      "\n",
      "word3 -78.0\n"
     ]
    }
   ],
   "source": [
    "word = \"01000010001101000000000000000000\" # 45\n",
    "word2 = \"01000001111010011101011100001010\" # 29.23\n",
    "word3 = \"11000010100111000000000000000000\" # -78\n",
    "def single_precision(word):\n",
    "    if word[0] == \"1\":\n",
    "        sign = -1\n",
    "    else:\n",
    "        sign = 1\n",
    "    \n",
    "    exponent = int(word[1:9], 2)-127  #  2**(8 - 1) - 1 \n",
    "\n",
    "    m = word[9:]\n",
    "    mantissa = 0\n",
    "    for i in range(len(m)):\n",
    "        mantissa = int(m[i])*(2**-(i+1)) + mantissa\n",
    "        \n",
    "    sp = sign * (1 + mantissa) * (2**exponent)\n",
    "    return sp\n",
    "        \n",
    "        \n",
    "        \n",
    "print(\"word:\",single_precision(word),\"\\n\")\n",
    "print(\"word2:\",single_precision(word2),\"\\n\")\n",
    "print(\"word3\",single_precision(word3))"
   ]
=======
   "execution_count": null,
   "metadata": {},
   "outputs": [],
   "source": []
>>>>>>> main
  },
  {
   "cell_type": "markdown",
   "metadata": {},
   "source": [
    "3\\. Write a program to determine the underflow and overflow limits (within a factor of 2) for python on your computer. \n",
    "\n",
    "**Tip**: define two variables initialized to 1 and halve/double them for a sufficient amount of times to exceed the under/over-flow limits  "
   ]
  },
  {
   "cell_type": "code",
<<<<<<< HEAD
   "execution_count": 4,
   "metadata": {},
   "outputs": [
    {
     "name": "stdout",
     "output_type": "stream",
     "text": [
      "overflow: 1025\n",
      "underflow: 1076\n"
     ]
    }
   ],
   "source": [
    "import math as m\n",
    "\n",
    "number = 1.0\n",
    "overflow = 1\n",
    "while number != m.inf:\n",
    "    number = number*2\n",
    "    overflow+=1\n",
    "print(\"overflow:\",overflow)\n",
    "\n",
    "number2 = 1.0\n",
    "underflow = 1\n",
    "while number2 != 0:\n",
    "    number2 = number2/2\n",
    "    underflow+=1\n",
    "print(\"underflow:\",underflow)"
   ]
=======
   "execution_count": null,
   "metadata": {},
   "outputs": [],
   "source": []
>>>>>>> main
  },
  {
   "cell_type": "markdown",
   "metadata": {},
   "source": [
    "4\\. Write a program to determine the machine precision\n",
    "\n",
    "**Tip**: define a new variable by adding an increasingly smaller value (in the same way as the previous problem) and check when the addition starts to have no effect on the number"
   ]
  },
  {
   "cell_type": "code",
<<<<<<< HEAD
   "execution_count": 5,
   "metadata": {},
   "outputs": [
    {
     "name": "stdout",
     "output_type": "stream",
     "text": [
      "54\n"
     ]
    }
   ],
   "source": [
    "number = 1\n",
    "new_number = 0\n",
    "counter = 0\n",
    "while new_number != number:\n",
    "    new_number = number\n",
    "    number = number + 2**(-1*counter) # 1, 1/2, 1/4, 1/8...\n",
    "    counter+=1\n",
    "print(counter)"
   ]
=======
   "execution_count": null,
   "metadata": {},
   "outputs": [],
   "source": []
>>>>>>> main
  },
  {
   "cell_type": "markdown",
   "metadata": {},
   "source": [
    "5\\. Write a function that takes in input three parameters $a$, $b$ and $c$ and prints out the two solutions to the quadratic equation $ax^2+bx+c=0$ using the standard formula:\n",
    "$$\n",
    "x=\\frac{-b\\pm\\sqrt{b^2-4ac}}{2a}\n",
    "$$\n",
    "\n",
    "(a) use the program to compute the solution for $a=0.001$, $b=1000$ and $c=0.001$\n",
    "\n",
    "(b) re-express the standard solution formula by multiplying the numerator and the denominator by $-b\\mp\\sqrt{b^2-4ac}$ and again find the solution for $a=0.001$, $b=1000$ and $c=0.001$. How does it compare with what has been previously obtained, and why?\n",
    "\n",
    "(c) write a function that computes the roots of a quadratic equation accurately in all cases"
   ]
  },
  {
   "cell_type": "code",
<<<<<<< HEAD
   "execution_count": 8,
   "metadata": {},
   "outputs": [
    {
     "name": "stdout",
     "output_type": "stream",
     "text": [
      "a) (-9.999894245993346e-07, -999999.999999)\n",
      "b) (-9.999894245993346e-07, -999999.9999990001) \n",
      "\n",
      "The results must be the same but due to the limited precision of floating numbers, there can be small differences between results.\n",
      "\n",
      "c) (-9.999894245993346e-07, -999999.999999)\n",
      "c) 0\n",
      "c) There is no real root\n"
     ]
    }
   ],
   "source": [
    "import math as m\n",
    "\n",
    "def func(a,b,c):\n",
    "    x1 = (-b + m.sqrt(b**2 - 4*a*c)) / (2*a)\n",
    "    x2 = (-b - m.sqrt(b**2 - 4*a*c)) / (2*a)\n",
    "    return x1,x2\n",
    "    \n",
    "print(\"a)\",func(0.001,1000,0.001))\n",
    "\n",
    "def func2(a,b,c):\n",
    "    x1 = ((-b + m.sqrt(b**2 - 4*a*c)) * (-b - m.sqrt(b**2 - 4*a*c))) / ((2*a) * (-b - m.sqrt(b**2 - 4*a*c)))\n",
    "    x2 = ((-b - m.sqrt(b**2 - 4*a*c)) * (-b + m.sqrt(b**2 - 4*a*c))) / ((2*a) * (-b + m.sqrt(b**2 - 4*a*c)))\n",
    "    return x1,x2\n",
    "\n",
    "print(\"b)\",func2(0.001,1000,0.001),\"\\n\")\n",
    "print(\"The results must be the same but due to the limited precision of floating numbers, there can be small differences between results.\\n\")\n",
    "\n",
    "def func3(a,b,c):\n",
    "    delta = (b**2 - 4*a*c)\n",
    "    if delta > 0:\n",
    "        x1 = (-b + m.sqrt(b**2 - 4*a*c)) / (2*a)\n",
    "        x2 = (-b - m.sqrt(b**2 - 4*a*c)) / (2*a)\n",
    "        return x1,x2\n",
    "    elif delta == 0:\n",
    "        return delta\n",
    "    else:\n",
    "        return \"There is no real root\"\n",
    "\n",
    "print(\"c)\",func3(0.001,1000,0.001))        \n",
    "print(\"c)\",func3(1,2,1))\n",
    "print(\"c)\",func3(2,2,1))  "
   ]
=======
   "execution_count": null,
   "metadata": {},
   "outputs": [],
   "source": []
>>>>>>> main
  },
  {
   "cell_type": "markdown",
   "metadata": {},
   "source": [
    "6\\. Write a program that implements the function $f(x)=x(x−1)$\n",
    "\n",
    "(a) Calculate the derivative of the function at the point $x = 1$ using the derivative definition:\n",
    "\n",
    "$$\n",
    "\\frac{{\\rm d}f}{{\\rm d}x} = \\lim_{\\delta\\to0} \\frac{f(x+\\delta)-f(x)}{\\delta}\n",
    "$$\n",
    "\n",
    "with $\\delta = 10^{−2}$. Calculate the true value of the same derivative analytically and compare it with the answer your program gives. The two will not agree perfectly. Why?\n",
    "\n",
    "(b) Repeat the calculation for $\\delta = 10^{−4}, 10^{−6}, 10^{−8}, 10^{−10}, 10^{−12}$ and $10^{−14}$. How does the accuracy scales with $\\delta$?"
   ]
  },
  {
   "cell_type": "code",
<<<<<<< HEAD
   "execution_count": 30,
   "metadata": {},
   "outputs": [
    {
     "name": "stdout",
     "output_type": "stream",
     "text": [
      "a)\n",
      "\n",
      "delta = 10**(-2): 1.010000000000001\n",
      "1 + 𝛿 = 1.01\n",
      "\n",
      "\n",
      "The analytical result must be 1+𝛿, but the derivative function gave different from the analytic result with a very small fraction. When the delta is increased, the result approximates the correct result. Typically this issue is happening since the function is well-conditioned but the calculation is numerically unstable.\n",
      "\n",
      "b)\n",
      "\n",
      "10**-4: 1.0000999999998899  error: 1.1013412404281553e-13\n",
      "10**-6: 1.0000009999177333  error: 8.22666379463044e-11\n",
      "10**-8: 1.0000000039225287  error: 6.077471192966755e-09\n",
      "10**-10: 1.000000082840371  error: 8.274037099909037e-08\n",
      "10**-12: 1.0000889005833413  error: 8.890058234123366e-05\n",
      "10**-14: 0.9992007221626509  error: 0.0007992778373591136\n",
      "\n",
      "\n",
      "The accuracy decrease while the 𝛿 is decreasing.\n"
     ]
    }
   ],
   "source": [
    "def function(x): # f(x) = x*(x-1)   f'(x) = 2x -1\n",
    "    return x*(x-1)\n",
    "\n",
    "def derivative(f,d,x): \n",
    "    return (f(x + d) - f(x)) / d\n",
    "\n",
    "x = 1\n",
    "\n",
    "print(\"a)\\n\")\n",
    "print(\"delta = 10**(-2):\", derivative(function,10**(-2),x)) \n",
    "print(\"1 + 𝛿 =\",str(1+(10**(-2))))\n",
    "print(\"\\n\")\n",
    "print(\"The analytical result must be 1+𝛿, but the derivative function gave different from the analytic result with a very small fraction. When the delta is increased, the result approximates the correct result. Typically this issue is happening since the function is well-conditioned but the calculation is numerically unstable.\")\n",
    "\n",
    "print(\"\\nb)\\n\")\n",
    "delta = [10**(-4), 10**(-6), 10**(-8), 10**(-10), 10**(-12), 10**(-14)] \n",
    "counter= 0\n",
    "for d in delta:\n",
    "    print(\"10**\" + str(-(4+counter)) + \": \" + str(derivative(function,d,x)) + \"  error: \" + str(abs((1+d)-derivative(function,d,x))))\n",
    "    counter+=2\n",
    "    \n",
    "print(\"\\n\")\n",
    "print(\"The accuracy decrease while the 𝛿 is decreasing.\")"
   ]
=======
   "execution_count": null,
   "metadata": {},
   "outputs": [],
   "source": []
>>>>>>> main
  },
  {
   "cell_type": "markdown",
   "metadata": {},
   "source": [
    "7\\. Consider the integral of the semicircle of radius 1:\n",
    "$$\n",
    "I=\\int_{-1}^{1} \\sqrt(1-x^2) {\\rm d}x\n",
    "$$\n",
    "which is known to be $I=\\frac{\\pi}{2}=1.57079632679...$.\n",
    "\n",
    "Alternatively we can use the Riemann definition of the integral:\n",
    "$$\n",
    "I=\\lim_{N\\to\\infty} \\sum_{k=1}^{N} h y_k \n",
    "$$\n",
    "\n",
    "with $h=2/N$ the width of each of the $N$ slices the domain is divided into and where\n",
    "$y_k$ is the value of the function at the $k-$th slice.\n",
    "\n",
    "(a) Write a program to compute the integral with $N=100$. How does the result compare to the true value?\n",
    "\n",
    "(b) How much can $N$ be increased if the computation needs to be run in less than a second? What is the gain in running it for 1 minute? \n"
   ]
  },
  {
   "cell_type": "code",
<<<<<<< HEAD
   "execution_count": 6,
   "metadata": {},
   "outputs": [
    {
     "name": "stdout",
     "output_type": "stream",
     "text": [
      "a)\n",
      "\n",
      "1.5691342555492493\n",
      "\n",
      "The result is not equal to true value but close to it.\n",
      "\n",
      "b)\n",
      "\n",
      "Wall time: 1 s\n",
      "1.570796326503731 error: 0.0016620709544816759 \n",
      "\n",
      "Wall time: 59.2 s\n",
      "1.570796326170824 error: 0.0016620706215746406\n",
      "\n",
      "The result is getting closer to the true value in a more run time. But the difference is not too much.\n"
     ]
    }
   ],
   "source": [
    "import math as m\n",
    "\n",
    "def function2(x):\n",
    "    return m.sqrt(1 - x * x)\n",
    "\n",
    "def integral(f, N, x):\n",
    "    I = 0\n",
    "    h = 2/N   \n",
    "    for i in range(N):\n",
    "        I += (h * f(x))\n",
    "        x += h\n",
    "    return I\n",
    "\n",
    "print(\"a)\\n\")\n",
    "a = integral(function2,100,-1)\n",
    "print(a)\n",
    "print(\"\\nThe result is not equal to true value but close to it.\")\n",
    "\n",
    "print(\"\\nb)\\n\")\n",
    "\n",
    "%time result = integral(function2,2987700,-1)\n",
    "print(result,\"error:\",abs(result-a),\"\\n\")\n",
    "\n",
    "%time result = integral(function2,2987700*60,-1)\n",
    "print(result,\"error:\",abs(result-a))\n",
    "print(\"\\nThe result is getting closer to the true value in a more run time. But the difference is not too much. \")"
   ]
  },
  {
   "cell_type": "code",
=======
>>>>>>> main
   "execution_count": null,
   "metadata": {},
   "outputs": [],
   "source": []
  }
 ],
 "metadata": {
  "kernelspec": {
   "display_name": "Python 3",
   "language": "python",
   "name": "python3"
  },
  "language_info": {
   "codemirror_mode": {
    "name": "ipython",
    "version": 3
   },
   "file_extension": ".py",
   "mimetype": "text/x-python",
   "name": "python",
   "nbconvert_exporter": "python",
   "pygments_lexer": "ipython3",
<<<<<<< HEAD
   "version": "3.7.1"
=======
   "version": "3.8.5"
>>>>>>> main
  }
 },
 "nbformat": 4,
 "nbformat_minor": 2
}
