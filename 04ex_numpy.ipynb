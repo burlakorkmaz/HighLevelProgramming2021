{
 "cells": [
  {
   "cell_type": "markdown",
   "metadata": {},
   "source": [
    "1\\. Find the total mean, and the mean for each row and column of the following matrix:\n",
    "\n",
    "```python\n",
    "m = np.arange(12).reshape((3,4))\n",
    "```"
   ]
  },
  {
   "cell_type": "code",
<<<<<<< HEAD
   "execution_count": 2,
   "metadata": {},
   "outputs": [
    {
     "name": "stdout",
     "output_type": "stream",
     "text": [
      "total mean: 5.5\n",
      "\n",
      "\n",
      "mean of row 1 : 1.5\n",
      "mean of row 2 : 5.5\n",
      "mean of row 3 : 9.5\n",
      "\n",
      "\n",
      "mean of column 1 : 4.0\n",
      "mean of column 2 : 5.0\n",
      "mean of column 3 : 6.0\n",
      "mean of column 4 : 7.0\n"
     ]
    }
   ],
   "source": [
    "import numpy as np\n",
    "m = np.arange(12).reshape((3,4))\n",
    "\n",
    "# total mean\n",
    "total = 0\n",
    "for i in range(3):\n",
    "    for j in range(4):\n",
    "        total = m[i][j] + total\n",
    "\n",
    "mean_all = total / 12\n",
    "print(\"total mean:\",mean_all)\n",
    "print(\"\\n\")     \n",
    "\n",
    "# mean for each row\n",
    "total_row = 0\n",
    "for i in range(3):\n",
    "    for j in range(4):\n",
    "        total_row = m[i][j] + total_row\n",
    "    mean_row = total_row/4\n",
    "    total_row = 0\n",
    "    print(\"mean of row\",i+1,\":\",mean_row)\n",
    "print(\"\\n\")      \n",
    "\n",
    "# mean for each column\n",
    "total_column = 0\n",
    "for i in range(4):\n",
    "    for j in range(3):\n",
    "        total_column = m[j][i] + total_column\n",
    "    mean_column = total_column/3\n",
    "    total_column = 0\n",
    "    print(\"mean of column\",i+1,\":\",mean_column)"
   ]
=======
   "execution_count": null,
   "metadata": {},
   "outputs": [],
   "source": []
>>>>>>> main
  },
  {
   "cell_type": "markdown",
   "metadata": {},
   "source": [
    "2\\. Find the outer product of the following vectors:\n",
    "\n",
    "```python\n",
    "u = np.array([1, 3, 5, 7])\n",
    "v = np.array([2, 4, 6, 8])\n",
    "```\n",
    "\n",
    "Use different methods to do this:\n",
    "\n",
    "   1. Using the function `outer` in numpy\n",
    "   2. Using a nested `for` loop or a list comprehension\n",
    "   3. Using numpy broadcasting operations"
   ]
  },
  {
   "cell_type": "code",
<<<<<<< HEAD
   "execution_count": 3,
   "metadata": {},
   "outputs": [
    {
     "name": "stdout",
     "output_type": "stream",
     "text": [
      "[[ 2  4  6  8]\n",
      " [ 6 12 18 24]\n",
      " [10 20 30 40]\n",
      " [14 28 42 56]]\n",
      "\n",
      "\n",
      "[[ 2  4  6  8]\n",
      " [ 6 12 18 24]\n",
      " [10 20 30 40]\n",
      " [14 28 42 56]]\n",
      "\n",
      "\n",
      "[[ 2  6 10 14]\n",
      " [ 4 12 20 28]\n",
      " [ 6 18 30 42]\n",
      " [ 8 24 40 56]]\n"
     ]
    }
   ],
   "source": [
    "u = np.array([1, 3, 5, 7])\n",
    "v = np.array([2, 4, 6, 8])\n",
    "\n",
    "# 1)\n",
    "outher_product = np.outer(u, v, out=None)\n",
    "print(outher_product)   \n",
    "print(\"\\n\")   \n",
    "\n",
    "# 2)\n",
    "outher_product2 = np.zeros((len(u),len(v)),dtype = int)\n",
    "for i in range(len(u)):\n",
    "    for j in range(len(v)):\n",
    "        outher_product2[i][j] = u[i]*v[j]\n",
    "print(outher_product2)\n",
    "print(\"\\n\")\n",
    "\n",
    "# 3)\n",
    "outher_product3 = np.zeros((len(u),len(v)),dtype = int)\n",
    "for i in range(len(v)):\n",
    "    outher_product3[i] = v[i] * u\n",
    "print(outher_product3)"
   ]
=======
   "execution_count": null,
   "metadata": {},
   "outputs": [],
   "source": []
>>>>>>> main
  },
  {
   "cell_type": "markdown",
   "metadata": {},
   "source": [
    "3\\. Create a 10 by 6 matrix of increasing float numbers, starting from zero and increasing in each step by 0.1, so the output matrix looks like the following:\n",
    "\n",
    "```python\n",
    "m = [[0. 0.1, 0.2 0.3 ... 0.9]\n",
    "     [1.0 1.1 1.2 1.3 ... 1.9]\n",
    "     ...\n",
    "     [5.0 5.1 5.2 5.3 ... 5.9]]\n",
    "```\n",
    "After creating the matrix, set all entries with a decimal part $< 0.4$ to zero."
   ]
  },
  {
   "cell_type": "code",
<<<<<<< HEAD
   "execution_count": 4,
   "metadata": {},
   "outputs": [
    {
     "name": "stdout",
     "output_type": "stream",
     "text": [
      "[[0.  0.1 0.2 0.3 0.4 0.5 0.6 0.7 0.8 0.9]\n",
      " [1.  1.1 1.2 1.3 1.4 1.5 1.6 1.7 1.8 1.9]\n",
      " [2.  2.1 2.2 2.3 2.4 2.5 2.6 2.7 2.8 2.9]\n",
      " [3.  3.1 3.2 3.3 3.4 3.5 3.6 3.7 3.8 3.9]\n",
      " [4.  4.1 4.2 4.3 4.4 4.5 4.6 4.7 4.8 4.9]\n",
      " [5.  5.1 5.2 5.3 5.4 5.5 5.6 5.7 5.8 5.9]]\n",
      "\n",
      "\n",
      "[[0.  0.  0.  0.  0.4 0.5 0.6 0.7 0.8 0.9]\n",
      " [0.  0.  0.  0.  1.4 1.5 1.6 1.7 1.8 1.9]\n",
      " [0.  0.  0.  0.  2.4 2.5 2.6 2.7 2.8 2.9]\n",
      " [0.  0.  0.  0.  3.4 3.5 3.6 3.7 3.8 3.9]\n",
      " [0.  0.  0.  0.  4.4 4.5 4.6 4.7 4.8 4.9]\n",
      " [0.  0.  0.  0.  5.4 5.5 5.6 5.7 5.8 5.9]]\n"
     ]
    }
   ],
   "source": [
    "matrix = np.arange(0, 6, 0.1).reshape((6, 10))\n",
    "print(matrix)\n",
    "print(\"\\n\")\n",
    "\n",
    "for i in range(6):\n",
    "    for j in range(10):\n",
    "        if matrix[i][j] % 1 < 0.4:\n",
    "            matrix[i][j] = 0\n",
    "print(matrix)"
   ]
=======
   "execution_count": null,
   "metadata": {},
   "outputs": [],
   "source": []
>>>>>>> main
  },
  {
   "cell_type": "markdown",
   "metadata": {},
   "source": [
    "4\\. Use `np.linspace` to create an array of 100 numbers between 0 and 2π (inclusive).\n",
    "\n",
    "  * Extract every 10th element using the slice notation\n",
    "  * Reverse the array using the slice notation\n",
    "  * Extract elements where the absolute difference between the sin and cos functions evaluated for that element is $< 0.1$\n",
    "  * **Optional**: make a plot showing the sin and cos functions and indicate where they are close"
   ]
  },
  {
   "cell_type": "code",
<<<<<<< HEAD
   "execution_count": 5,
   "metadata": {},
   "outputs": [
    {
     "name": "stdout",
     "output_type": "stream",
     "text": [
      "[0.         0.06346652 0.12693304 0.19039955 0.25386607 0.31733259\n",
      " 0.38079911 0.44426563 0.50773215 0.57119866 0.63466518 0.6981317\n",
      " 0.76159822 0.82506474 0.88853126 0.95199777 1.01546429 1.07893081\n",
      " 1.14239733 1.20586385 1.26933037 1.33279688 1.3962634  1.45972992\n",
      " 1.52319644 1.58666296 1.65012947 1.71359599 1.77706251 1.84052903\n",
      " 1.90399555 1.96746207 2.03092858 2.0943951  2.15786162 2.22132814\n",
      " 2.28479466 2.34826118 2.41172769 2.47519421 2.53866073 2.60212725\n",
      " 2.66559377 2.72906028 2.7925268  2.85599332 2.91945984 2.98292636\n",
      " 3.04639288 3.10985939 3.17332591 3.23679243 3.30025895 3.36372547\n",
      " 3.42719199 3.4906585  3.55412502 3.61759154 3.68105806 3.74452458\n",
      " 3.8079911  3.87145761 3.93492413 3.99839065 4.06185717 4.12532369\n",
      " 4.1887902  4.25225672 4.31572324 4.37918976 4.44265628 4.5061228\n",
      " 4.56958931 4.63305583 4.69652235 4.75998887 4.82345539 4.88692191\n",
      " 4.95038842 5.01385494 5.07732146 5.14078798 5.2042545  5.26772102\n",
      " 5.33118753 5.39465405 5.45812057 5.52158709 5.58505361 5.64852012\n",
      " 5.71198664 5.77545316 5.83891968 5.9023862  5.96585272 6.02931923\n",
      " 6.09278575 6.15625227 6.21971879 6.28318531]\n",
      "\n",
      "\n",
      "1) Extract every 10th element using the slice notation\n",
      "[0.57119866 1.20586385 1.84052903 2.47519421 3.10985939 3.74452458\n",
      " 4.37918976 5.01385494 5.64852012 6.28318531]\n",
      "\n",
      "\n",
      "2) Reverse the array using the slice notation\n",
      "[6.28318531 6.21971879 6.15625227 6.09278575 6.02931923 5.96585272\n",
      " 5.9023862  5.83891968 5.77545316 5.71198664 5.64852012 5.58505361\n",
      " 5.52158709 5.45812057 5.39465405 5.33118753 5.26772102 5.2042545\n",
      " 5.14078798 5.07732146 5.01385494 4.95038842 4.88692191 4.82345539\n",
      " 4.75998887 4.69652235 4.63305583 4.56958931 4.5061228  4.44265628\n",
      " 4.37918976 4.31572324 4.25225672 4.1887902  4.12532369 4.06185717\n",
      " 3.99839065 3.93492413 3.87145761 3.8079911  3.74452458 3.68105806\n",
      " 3.61759154 3.55412502 3.4906585  3.42719199 3.36372547 3.30025895\n",
      " 3.23679243 3.17332591 3.10985939 3.04639288 2.98292636 2.91945984\n",
      " 2.85599332 2.7925268  2.72906028 2.66559377 2.60212725 2.53866073\n",
      " 2.47519421 2.41172769 2.34826118 2.28479466 2.22132814 2.15786162\n",
      " 2.0943951  2.03092858 1.96746207 1.90399555 1.84052903 1.77706251\n",
      " 1.71359599 1.65012947 1.58666296 1.52319644 1.45972992 1.3962634\n",
      " 1.33279688 1.26933037 1.20586385 1.14239733 1.07893081 1.01546429\n",
      " 0.95199777 0.88853126 0.82506474 0.76159822 0.6981317  0.63466518\n",
      " 0.57119866 0.50773215 0.44426563 0.38079911 0.31733259 0.25386607\n",
      " 0.19039955 0.12693304 0.06346652 0.        ]\n",
      "\n",
      "\n",
      "3) Extract elements where the absolute difference between the sin and cos functions evaluated for that element is  <0.1\n",
      "[0.76159822 0.82506474 3.87145761 3.93492413]\n",
      "\n",
      "\n"
     ]
    },
    {
     "data": {
      "image/png": "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\n",
      "text/plain": [
       "<Figure size 432x288 with 1 Axes>"
      ]
     },
     "metadata": {
      "needs_background": "light"
     },
     "output_type": "display_data"
    }
   ],
   "source": [
    "array = np.linspace(0, 2*np.pi, num = 100)\n",
    "print(array)\n",
    "print(\"\\n\")\n",
    "\n",
    "# Extract every 10th element using the slice notation\n",
    "print(\"1) Extract every 10th element using the slice notation\")\n",
    "every_element_10th = array[9:100:10]\n",
    "print(every_element_10th)\n",
    "print(\"\\n\")\n",
    "\n",
    "#Reverse the array using the slice notation\n",
    "print(\"2) Reverse the array using the slice notation\")\n",
    "reverse_array = array[::-1]\n",
    "print(reverse_array)\n",
    "print(\"\\n\")\n",
    "\n",
    "# Extract elements where the absolute difference between the sin and cos functions evaluated for that element is  <0.1\n",
    "print(\"3) Extract elements where the absolute difference between the sin and cos functions evaluated for that element is  <0.1\")\n",
    "new_array = np.extract(abs(np.sin(array) - np.cos(array)) < 0.1, array)\n",
    "print(new_array)\n",
    "print(\"\\n\")\n",
    "\n",
    "# make a plot showing the sin and cos functions and indicate where they are close\n",
    "from matplotlib import pyplot as plt\n",
    "plt.plot(array,np.sin(array),array,np.cos(array))\n",
    "plt.title('plot showing the sin and cos functions')\n",
    "plt.xlabel(\"numbers between 0 to 2π\")\n",
    "plt.ylabel(\"sin(x) and cos(x)\")\n",
    "plt.legend(['sin(x)', 'cos(x)'])\n",
    "condition = abs(np.sin(array) - np.cos(array)) < 0.1\n",
    "for i in range(len(condition)):\n",
    "    if condition[i] == True:\n",
    "        plt.plot(array[i], np.sin(array[i]), marker=\"o\", markersize=10, markeredgecolor=\"red\", markerfacecolor=\"green\")\n",
    "        plt.plot(array[i], np.cos(array[i]), marker=\"o\", markersize=10, markeredgecolor=\"red\", markerfacecolor=\"green\")\n",
    "plt.show()"
   ]
=======
   "execution_count": null,
   "metadata": {},
   "outputs": [],
   "source": []
>>>>>>> main
  },
  {
   "cell_type": "markdown",
   "metadata": {},
   "source": [
    "5\\. Create a matrix that shows the 10 by 10 multiplication table.\n",
    "\n",
    " * Find the trace of the matrix\n",
    " * Extract the anti-diagonal matrix (this should be ```array([10, 18, 24, 28, 30, 30, 28, 24, 18, 10])```)\n",
    " * Extract the diagonal offset by 1 upwards (this should be ```array([ 2,  6, 12, 20, 30, 42, 56, 72, 90])```)"
   ]
  },
  {
   "cell_type": "code",
<<<<<<< HEAD
   "execution_count": 6,
   "metadata": {},
   "outputs": [
    {
     "name": "stdout",
     "output_type": "stream",
     "text": [
      "[[  1   2   3   4   5   6   7   8   9  10]\n",
      " [  2   4   6   8  10  12  14  16  18  20]\n",
      " [  3   6   9  12  15  18  21  24  27  30]\n",
      " [  4   8  12  16  20  24  28  32  36  40]\n",
      " [  5  10  15  20  25  30  35  40  45  50]\n",
      " [  6  12  18  24  30  36  42  48  54  60]\n",
      " [  7  14  21  28  35  42  49  56  63  70]\n",
      " [  8  16  24  32  40  48  56  64  72  80]\n",
      " [  9  18  27  36  45  54  63  72  81  90]\n",
      " [ 10  20  30  40  50  60  70  80  90 100]]\n",
      "\n",
      "1) Find the trace of the matrix\n",
      "385\n",
      "\n",
      "2) Extract the anti-diagonal matrix\n",
      "[10 18 24 28 30 30 28 24 18 10]\n",
      "\n",
      "3) Extract the diagonal offset by 1 upwards\n",
      "[ 2  6 12 20 30 42 56 72 90]\n"
     ]
    }
   ],
   "source": [
    "multiplication_table = np.zeros((10,10), dtype = int)\n",
    "\n",
    "for i in range(10):\n",
    "    for j in range(10):\n",
    "        multiplication_table[i][j] = (i+1) * (j+1)\n",
    "print(multiplication_table)        \n",
    "\n",
    "# Find the trace of the matrix\n",
    "print(\"\\n1) Find the trace of the matrix\")\n",
    "trace_matrix = np.trace(multiplication_table)\n",
    "print(trace_matrix)\n",
    "\n",
    "#Extract the anti-diagonal matrix\n",
    "print(\"\\n2) Extract the anti-diagonal matrix\")\n",
    "anti_diagonal = np.fliplr(multiplication_table).diagonal()\n",
    "print(anti_diagonal)\n",
    "\n",
    "#Extract the diagonal offset by 1 upwards\n",
    "print(\"\\n3) Extract the diagonal offset by 1 upwards\")\n",
    "one_upwards = []\n",
    "for i in range(len(multiplication_table)):\n",
    "    for j in range(len(multiplication_table[0])):\n",
    "        if i+1 == j:\n",
    "            one_upwards.append(multiplication_table[i][j])\n",
    "one_upwards = np.array(one_upwards)\n",
    "print(one_upwards) \n",
    "        "
   ]
=======
   "execution_count": null,
   "metadata": {},
   "outputs": [],
   "source": []
>>>>>>> main
  },
  {
   "cell_type": "markdown",
   "metadata": {},
   "source": [
    "6\\. Use broadcasting to create a grid of distances.\n",
    "\n",
    "Route 66 crosses the following cities in the US: Chicago, Springfield, Saint-Louis, Tulsa, Oklahoma City, Amarillo, Santa Fe, Albuquerque, Flagstaff, Los Angeles\n",
    "The corresponding positions in miles are: 0, 198, 303, 736, 871, 1175, 1475, 1544, 1913, 2448\n",
    "\n",
    "  * Build a 2D grid of distances among each city along Route 66\n",
    "  * Convert the distances in km"
   ]
  },
  {
   "cell_type": "code",
<<<<<<< HEAD
   "execution_count": 7,
   "metadata": {},
   "outputs": [
    {
     "name": "stdout",
     "output_type": "stream",
     "text": [
      "[[   0.  198.  303.  736.  871. 1175. 1475. 1544. 1913. 2448.]\n",
      " [ 198.    0.  105.  538.  673.  977. 1277. 1346. 1715. 2250.]\n",
      " [ 303.  105.    0.  433.  568.  872. 1172. 1241. 1610. 2145.]\n",
      " [ 736.  538.  433.    0.  135.  439.  739.  808. 1177. 1712.]\n",
      " [ 871.  673.  568.  135.    0.  304.  604.  673. 1042. 1577.]\n",
      " [1175.  977.  872.  439.  304.    0.  300.  369.  738. 1273.]\n",
      " [1475. 1277. 1172.  739.  604.  300.    0.   69.  438.  973.]\n",
      " [1544. 1346. 1241.  808.  673.  369.   69.    0.  369.  904.]\n",
      " [1913. 1715. 1610. 1177. 1042.  738.  438.  369.    0.  535.]\n",
      " [2448. 2250. 2145. 1712. 1577. 1273.  973.  904.  535.    0.]] \n",
      "\n",
      "[[   0.        318.650112  487.631232 1184.477184 1401.738624 1890.9792\n",
      "  2373.7824   2484.827136 3078.675072 3939.674112]\n",
      " [ 318.650112    0.        168.98112   865.827072 1083.088512 1572.329088\n",
      "  2055.132288 2166.177024 2760.02496  3621.024   ]\n",
      " [ 487.631232  168.98112     0.        696.845952  914.107392 1403.347968\n",
      "  1886.151168 1997.195904 2591.04384  3452.04288 ]\n",
      " [1184.477184  865.827072  696.845952    0.        217.26144   706.502016\n",
      "  1189.305216 1300.349952 1894.197888 2755.196928]\n",
      " [1401.738624 1083.088512  914.107392  217.26144     0.        489.240576\n",
      "   972.043776 1083.088512 1676.936448 2537.935488]\n",
      " [1890.9792   1572.329088 1403.347968  706.502016  489.240576    0.\n",
      "   482.8032    593.847936 1187.695872 2048.694912]\n",
      " [2373.7824   2055.132288 1886.151168 1189.305216  972.043776  482.8032\n",
      "     0.        111.044736  704.892672 1565.891712]\n",
      " [2484.827136 2166.177024 1997.195904 1300.349952 1083.088512  593.847936\n",
      "   111.044736    0.        593.847936 1454.846976]\n",
      " [3078.675072 2760.02496  2591.04384  1894.197888 1676.936448 1187.695872\n",
      "   704.892672  593.847936    0.        860.99904 ]\n",
      " [3939.674112 3621.024    3452.04288  2755.196928 2537.935488 2048.694912\n",
      "  1565.891712 1454.846976  860.99904     0.      ]]\n"
     ]
    }
   ],
   "source": [
    "miles = np.array([0, 198, 303, 736, 871, 1175, 1475, 1544, 1913, 2448])\n",
    "miles_n = np.zeros((10,10))\n",
    "km = np.zeros((10,10))\n",
    "\n",
    "for i in range(len(miles_n)):\n",
    "    miles_n[i] = abs(miles[i] - miles)\n",
    "km = miles_n * 1.609344\n",
    "print(miles_n,\"\\n\")\n",
    "print(km)"
   ]
=======
   "execution_count": null,
   "metadata": {},
   "outputs": [],
   "source": []
>>>>>>> main
  },
  {
   "cell_type": "markdown",
   "metadata": {},
   "source": [
    "7\\. Prime numbers sieve: compute the prime numbers in the 0-N (start with N=99) range with a sieve (mask).\n",
    "  * Check the performances (timeit); how does it scale with N?\n",
    "  * Implement the optimization suggested in the [sieve of Eratosthenes](https://en.wikipedia.org/wiki/Sieve_of_Eratosthenes)"
   ]
  },
  {
   "cell_type": "code",
<<<<<<< HEAD
   "execution_count": 15,
   "metadata": {},
   "outputs": [
    {
     "name": "stdout",
     "output_type": "stream",
     "text": [
      "Wall time: 0 ns\n",
      "N = 99: [2, 3, 5, 7, 11, 13, 17, 19, 23, 29, 31, 37, 41, 43, 47, 53, 59, 61, 67, 71, 73, 79, 83, 89, 97] \n",
      "\n",
      "Wall time: 4.98 ms\n",
      "N = 999: [2, 3, 5, 7, 11, 13, 17, 19, 23, 29, 31, 37, 41, 43, 47, 53, 59, 61, 67, 71, 73, 79, 83, 89, 97, 101, 103, 107, 109, 113, 127, 131, 137, 139, 149, 151, 157, 163, 167, 173, 179, 181, 191, 193, 197, 199, 211, 223, 227, 229, 233, 239, 241, 251, 257, 263, 269, 271, 277, 281, 283, 293, 307, 311, 313, 317, 331, 337, 347, 349, 353, 359, 367, 373, 379, 383, 389, 397, 401, 409, 419, 421, 431, 433, 439, 443, 449, 457, 461, 463, 467, 479, 487, 491, 499, 503, 509, 521, 523, 541, 547, 557, 563, 569, 571, 577, 587, 593, 599, 601, 607, 613, 617, 619, 631, 641, 643, 647, 653, 659, 661, 673, 677, 683, 691, 701, 709, 719, 727, 733, 739, 743, 751, 757, 761, 769, 773, 787, 797, 809, 811, 821, 823, 827, 829, 839, 853, 857, 859, 863, 877, 881, 883, 887, 907, 911, 919, 929, 937, 941, 947, 953, 967, 971, 977, 983, 991, 997] \n",
      "\n",
      "N = 9999:\n",
      "Wall time: 426 ms\n",
      "\n",
      "\n",
      "sieve of Eratosthenes:\n",
      "Wall time: 0 ns\n",
      "N = 99: [2, 3, 5, 7, 11, 13, 17, 19, 23, 29, 31, 37, 41, 43, 47, 53, 59, 61, 67, 71, 73, 79, 83, 89, 97]\n",
      "Wall time: 0 ns\n"
     ]
    }
   ],
   "source": [
    "def prime(N):\n",
    "    primes = []\n",
    "    for i in range(2,N+1):\n",
    "        flag = False\n",
    "        for j in range(2,i):\n",
    "            if i % j == 0:\n",
    "                flag = True\n",
    "                break\n",
    "        if flag == False:\n",
    "            primes.append(i)\n",
    "    return primes\n",
    "            \n",
    "%time primes = prime(99)\n",
    "print(\"N = 99:\",primes,\"\\n\") \n",
    "\n",
    "%time primes = prime(999)\n",
    "print(\"N = 999:\",primes,\"\\n\")\n",
    "\n",
    "print(\"N = 9999:\")\n",
    "%time primes = prime(10000)\n",
    "print(\"\\n\")\n",
    "#print(\"N = 9999:\",primes,\"\\n\")\n",
    "\n",
    "# sieve of Eratosthenes\n",
    "print(\"sieve of Eratosthenes:\")\n",
    "def sieve_of_eratosthenes(N):\n",
    "    is_prime = []\n",
    "    for b in range(N+1):\n",
    "        b = True\n",
    "        is_prime.append(b)\n",
    "        \n",
    "    is_prime[0], is_prime[1] = False, False\n",
    "\n",
    "    for i in range(2, int(N**0.5)+1):\n",
    "        for j in range(2*i, N+1, i):\n",
    "            is_prime[j] = False\n",
    "            \n",
    "    primes=[]\n",
    "    for i in range(2, N+1):\n",
    "        if is_prime[i] == True:\n",
    "            primes.append(i)\n",
    "    \n",
    "    return primes\n",
    "\n",
    "%time primes = sieve_of_eratosthenes(99)\n",
    "print(\"N = 99:\",primes)\n",
    "\n",
    "%time primes = sieve_of_eratosthenes(99)"
   ]
  },
  {
   "cell_type": "code",
=======
>>>>>>> main
   "execution_count": null,
   "metadata": {},
   "outputs": [],
   "source": []
  }
 ],
 "metadata": {
  "kernelspec": {
   "display_name": "Python 3",
   "language": "python",
   "name": "python3"
  },
  "language_info": {
   "codemirror_mode": {
    "name": "ipython",
    "version": 3
   },
   "file_extension": ".py",
   "mimetype": "text/x-python",
   "name": "python",
   "nbconvert_exporter": "python",
   "pygments_lexer": "ipython3",
<<<<<<< HEAD
   "version": "3.7.1"
=======
   "version": "3.8.5"
>>>>>>> main
  }
 },
 "nbformat": 4,
 "nbformat_minor": 2
}
